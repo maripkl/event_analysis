{
  "nbformat": 4,
  "nbformat_minor": 0,
  "metadata": {
    "colab": {
      "name": "sas_category.ipynb",
      "provenance": []
    },
    "kernelspec": {
      "name": "python3",
      "display_name": "Python 3"
    },
    "language_info": {
      "name": "python"
    }
  },
  "cells": [
    {
      "cell_type": "markdown",
      "source": [
        "Разделение новостей на категории при помощи векторных эмбеддингов и алгоритма кластеризации"
      ],
      "metadata": {
        "id": "PJZegG3KcGlX"
      }
    },
    {
      "cell_type": "code",
      "source": [
        "import pandas as pd\n",
        "\n",
        "df = pd.read_csv('all_events.csv')\n",
        "df.head()"
      ],
      "metadata": {
        "colab": {
          "base_uri": "https://localhost:8080/",
          "height": 337
        },
        "id": "QUYv5qQkcOwK",
        "outputId": "270b4b13-7cd3-4e2f-ca1f-1e0f6559df55"
      },
      "execution_count": 2,
      "outputs": [
        {
          "output_type": "execute_result",
          "data": {
            "text/plain": [
              "     Источник        Дата  Значимость      Категория  \\\n",
              "0  Эксперт РА  21.10.2014           4     инвестиции   \n",
              "1  Эксперт РА    19.02.21           3        рейтинг   \n",
              "2  Эксперт РА    18.06.21           3        рейтинг   \n",
              "3  Коммерсант    27.12.21           4    добыча газа   \n",
              "4  Коммерсант    28.12.21           5  поставки газа   \n",
              "\n",
              "                                           Заголовок  \\\n",
              "0  «Эксперт 400»: для роста капитализации российс...   \n",
              "1  «Эксперт РА» присвоил рейтинг компании «Газпро...   \n",
              "2  «Эксперт РА» присвоил рейтинг компании «ГАЗПРО...   \n",
              "3                      Европа «перебрала» с запасами   \n",
              "4  «Газпром» восьмой день не бронирует мощности г...   \n",
              "\n",
              "                                             Новость  \n",
              "0  Согласно исследованию, в составе 200 крупнейши...  \n",
              "1  ПАО «Газпром» – глобальная энергетическая комп...  \n",
              "2  Группа Газпром (далее – Группа) - одна из круп...  \n",
              "3  Последнюю неделю европейский спотовый рынок бо...  \n",
              "4  «Газпром» на дополнительной ночной сессии 28 д...  "
            ],
            "text/html": [
              "\n",
              "  <div id=\"df-41c47846-1bef-414e-b181-05ab5ea5f3d1\">\n",
              "    <div class=\"colab-df-container\">\n",
              "      <div>\n",
              "<style scoped>\n",
              "    .dataframe tbody tr th:only-of-type {\n",
              "        vertical-align: middle;\n",
              "    }\n",
              "\n",
              "    .dataframe tbody tr th {\n",
              "        vertical-align: top;\n",
              "    }\n",
              "\n",
              "    .dataframe thead th {\n",
              "        text-align: right;\n",
              "    }\n",
              "</style>\n",
              "<table border=\"1\" class=\"dataframe\">\n",
              "  <thead>\n",
              "    <tr style=\"text-align: right;\">\n",
              "      <th></th>\n",
              "      <th>Источник</th>\n",
              "      <th>Дата</th>\n",
              "      <th>Значимость</th>\n",
              "      <th>Категория</th>\n",
              "      <th>Заголовок</th>\n",
              "      <th>Новость</th>\n",
              "    </tr>\n",
              "  </thead>\n",
              "  <tbody>\n",
              "    <tr>\n",
              "      <th>0</th>\n",
              "      <td>Эксперт РА</td>\n",
              "      <td>21.10.2014</td>\n",
              "      <td>4</td>\n",
              "      <td>инвестиции</td>\n",
              "      <td>«Эксперт 400»: для роста капитализации российс...</td>\n",
              "      <td>Согласно исследованию, в составе 200 крупнейши...</td>\n",
              "    </tr>\n",
              "    <tr>\n",
              "      <th>1</th>\n",
              "      <td>Эксперт РА</td>\n",
              "      <td>19.02.21</td>\n",
              "      <td>3</td>\n",
              "      <td>рейтинг</td>\n",
              "      <td>«Эксперт РА» присвоил рейтинг компании «Газпро...</td>\n",
              "      <td>ПАО «Газпром» – глобальная энергетическая комп...</td>\n",
              "    </tr>\n",
              "    <tr>\n",
              "      <th>2</th>\n",
              "      <td>Эксперт РА</td>\n",
              "      <td>18.06.21</td>\n",
              "      <td>3</td>\n",
              "      <td>рейтинг</td>\n",
              "      <td>«Эксперт РА» присвоил рейтинг компании «ГАЗПРО...</td>\n",
              "      <td>Группа Газпром (далее – Группа) - одна из круп...</td>\n",
              "    </tr>\n",
              "    <tr>\n",
              "      <th>3</th>\n",
              "      <td>Коммерсант</td>\n",
              "      <td>27.12.21</td>\n",
              "      <td>4</td>\n",
              "      <td>добыча газа</td>\n",
              "      <td>Европа «перебрала» с запасами</td>\n",
              "      <td>Последнюю неделю европейский спотовый рынок бо...</td>\n",
              "    </tr>\n",
              "    <tr>\n",
              "      <th>4</th>\n",
              "      <td>Коммерсант</td>\n",
              "      <td>28.12.21</td>\n",
              "      <td>5</td>\n",
              "      <td>поставки газа</td>\n",
              "      <td>«Газпром» восьмой день не бронирует мощности г...</td>\n",
              "      <td>«Газпром» на дополнительной ночной сессии 28 д...</td>\n",
              "    </tr>\n",
              "  </tbody>\n",
              "</table>\n",
              "</div>\n",
              "      <button class=\"colab-df-convert\" onclick=\"convertToInteractive('df-41c47846-1bef-414e-b181-05ab5ea5f3d1')\"\n",
              "              title=\"Convert this dataframe to an interactive table.\"\n",
              "              style=\"display:none;\">\n",
              "        \n",
              "  <svg xmlns=\"http://www.w3.org/2000/svg\" height=\"24px\"viewBox=\"0 0 24 24\"\n",
              "       width=\"24px\">\n",
              "    <path d=\"M0 0h24v24H0V0z\" fill=\"none\"/>\n",
              "    <path d=\"M18.56 5.44l.94 2.06.94-2.06 2.06-.94-2.06-.94-.94-2.06-.94 2.06-2.06.94zm-11 1L8.5 8.5l.94-2.06 2.06-.94-2.06-.94L8.5 2.5l-.94 2.06-2.06.94zm10 10l.94 2.06.94-2.06 2.06-.94-2.06-.94-.94-2.06-.94 2.06-2.06.94z\"/><path d=\"M17.41 7.96l-1.37-1.37c-.4-.4-.92-.59-1.43-.59-.52 0-1.04.2-1.43.59L10.3 9.45l-7.72 7.72c-.78.78-.78 2.05 0 2.83L4 21.41c.39.39.9.59 1.41.59.51 0 1.02-.2 1.41-.59l7.78-7.78 2.81-2.81c.8-.78.8-2.07 0-2.86zM5.41 20L4 18.59l7.72-7.72 1.47 1.35L5.41 20z\"/>\n",
              "  </svg>\n",
              "      </button>\n",
              "      \n",
              "  <style>\n",
              "    .colab-df-container {\n",
              "      display:flex;\n",
              "      flex-wrap:wrap;\n",
              "      gap: 12px;\n",
              "    }\n",
              "\n",
              "    .colab-df-convert {\n",
              "      background-color: #E8F0FE;\n",
              "      border: none;\n",
              "      border-radius: 50%;\n",
              "      cursor: pointer;\n",
              "      display: none;\n",
              "      fill: #1967D2;\n",
              "      height: 32px;\n",
              "      padding: 0 0 0 0;\n",
              "      width: 32px;\n",
              "    }\n",
              "\n",
              "    .colab-df-convert:hover {\n",
              "      background-color: #E2EBFA;\n",
              "      box-shadow: 0px 1px 2px rgba(60, 64, 67, 0.3), 0px 1px 3px 1px rgba(60, 64, 67, 0.15);\n",
              "      fill: #174EA6;\n",
              "    }\n",
              "\n",
              "    [theme=dark] .colab-df-convert {\n",
              "      background-color: #3B4455;\n",
              "      fill: #D2E3FC;\n",
              "    }\n",
              "\n",
              "    [theme=dark] .colab-df-convert:hover {\n",
              "      background-color: #434B5C;\n",
              "      box-shadow: 0px 1px 3px 1px rgba(0, 0, 0, 0.15);\n",
              "      filter: drop-shadow(0px 1px 2px rgba(0, 0, 0, 0.3));\n",
              "      fill: #FFFFFF;\n",
              "    }\n",
              "  </style>\n",
              "\n",
              "      <script>\n",
              "        const buttonEl =\n",
              "          document.querySelector('#df-41c47846-1bef-414e-b181-05ab5ea5f3d1 button.colab-df-convert');\n",
              "        buttonEl.style.display =\n",
              "          google.colab.kernel.accessAllowed ? 'block' : 'none';\n",
              "\n",
              "        async function convertToInteractive(key) {\n",
              "          const element = document.querySelector('#df-41c47846-1bef-414e-b181-05ab5ea5f3d1');\n",
              "          const dataTable =\n",
              "            await google.colab.kernel.invokeFunction('convertToInteractive',\n",
              "                                                     [key], {});\n",
              "          if (!dataTable) return;\n",
              "\n",
              "          const docLinkHtml = 'Like what you see? Visit the ' +\n",
              "            '<a target=\"_blank\" href=https://colab.research.google.com/notebooks/data_table.ipynb>data table notebook</a>'\n",
              "            + ' to learn more about interactive tables.';\n",
              "          element.innerHTML = '';\n",
              "          dataTable['output_type'] = 'display_data';\n",
              "          await google.colab.output.renderOutput(dataTable, element);\n",
              "          const docLink = document.createElement('div');\n",
              "          docLink.innerHTML = docLinkHtml;\n",
              "          element.appendChild(docLink);\n",
              "        }\n",
              "      </script>\n",
              "    </div>\n",
              "  </div>\n",
              "  "
            ]
          },
          "metadata": {},
          "execution_count": 2
        }
      ]
    },
    {
      "cell_type": "markdown",
      "source": [
        "Для начала преобразуем текст новостей в векторные эмбеддинги при помощи TF-IDF векторов. "
      ],
      "metadata": {
        "id": "FIfN11zGiwDS"
      }
    },
    {
      "cell_type": "code",
      "source": [
        "import string\n",
        "\n",
        "import nltk\n",
        "nltk.download('punkt')\n",
        "\n",
        "from nltk.tokenize import word_tokenize\n",
        "\n",
        "def process_text(text):\n",
        "    return [word for word in word_tokenize(text.lower()) if word not in string.punctuation]"
      ],
      "metadata": {
        "colab": {
          "base_uri": "https://localhost:8080/"
        },
        "id": "SRGlFW1-cipU",
        "outputId": "e94984ca-48e9-4fac-919d-5c20d79c8e7d"
      },
      "execution_count": 4,
      "outputs": [
        {
          "output_type": "stream",
          "name": "stderr",
          "text": [
            "[nltk_data] Downloading package punkt to /root/nltk_data...\n",
            "[nltk_data]   Unzipping tokenizers/punkt.zip.\n"
          ]
        }
      ]
    },
    {
      "cell_type": "code",
      "source": [
        "df['Новость'] = df['Новость'].apply(process_text)"
      ],
      "metadata": {
        "id": "eJhzkj9Oce0D"
      },
      "execution_count": 5,
      "outputs": []
    },
    {
      "cell_type": "code",
      "source": [
        "from sklearn.feature_extraction.text import TfidfVectorizer\n",
        "from sklearn.linear_model import LogisticRegression\n",
        "from sklearn.linear_model import LinearRegression\n",
        "from sklearn.metrics import mean_absolute_error\n",
        "from sklearn.pipeline import Pipeline\n",
        "import numpy as np\n",
        "from scipy.sparse import hstack"
      ],
      "metadata": {
        "id": "_50oLW3ccyJ0"
      },
      "execution_count": 8,
      "outputs": []
    },
    {
      "cell_type": "code",
      "source": [
        "vectors = TfidfVectorizer()\n",
        "X = (df['Новость']).astype(str)\n",
        "X = vectors.fit_transform(X)"
      ],
      "metadata": {
        "id": "Jzckyi2TczwG"
      },
      "execution_count": 10,
      "outputs": []
    },
    {
      "cell_type": "code",
      "source": [
        "X"
      ],
      "metadata": {
        "colab": {
          "base_uri": "https://localhost:8080/"
        },
        "id": "Npt2eDDrc8Pk",
        "outputId": "5d52cb8a-df7f-40e5-89aa-87fadfc72aa8"
      },
      "execution_count": 11,
      "outputs": [
        {
          "output_type": "execute_result",
          "data": {
            "text/plain": [
              "<89x7113 sparse matrix of type '<class 'numpy.float64'>'\n",
              "\twith 19281 stored elements in Compressed Sparse Row format>"
            ]
          },
          "metadata": {},
          "execution_count": 11
        }
      ]
    },
    {
      "cell_type": "code",
      "source": [
        "from sklearn.cluster import KMeans\n",
        "\n",
        "kmeans = KMeans(n_clusters=5).fit_predict(X)"
      ],
      "metadata": {
        "id": "JPJaFV_QdvfJ"
      },
      "execution_count": 22,
      "outputs": []
    },
    {
      "cell_type": "markdown",
      "source": [
        "Сравним результаты обучения без учителя с истинной разметкой (с вручную подобранными категориями новостей)"
      ],
      "metadata": {
        "id": "4Purr5Hfgzns"
      }
    },
    {
      "cell_type": "code",
      "source": [
        "df['y'] = kmeans\n",
        "for i in range(5):\n",
        "    print('Номер кластера: ', i)\n",
        "    print(df.loc[df['y'] == i]['Категория'].to_list())\n",
        "    print()"
      ],
      "metadata": {
        "colab": {
          "base_uri": "https://localhost:8080/"
        },
        "id": "uBKpxHMJfJku",
        "outputId": "db2f0051-0b28-46e8-8050-ffbf4f52163d"
      },
      "execution_count": 23,
      "outputs": [
        {
          "output_type": "stream",
          "name": "stdout",
          "text": [
            "Номер кластера:  0\n",
            "['рейтинг', 'рейтинг']\n",
            "\n",
            "Номер кластера:  1\n",
            "['события', 'поставки газа', 'санкции', 'санкции', 'санкции', 'санкции', 'поставки газа', 'поставки газа', 'поставки газа', 'поставки газа', 'поставки газа', 'поставки газа', 'поставки газа', 'поставки газа', 'поставки газа', 'поставки газа', 'поставки газа', 'поставки газа', 'поставки газа', 'поставки газа', 'поставки газа', 'поставки газа', 'поставки газа', 'поставки газа', 'поставки газа', 'поставки газа', 'поставки газа', 'поставки газа', 'поставки газа', 'поставки газа', 'оплата газа', 'поставки газа', 'поставки газа', 'поставки газа', 'поставки газа', 'поставки газа', 'санкции', 'поставки газа']\n",
            "\n",
            "Номер кластера:  2\n",
            "['инвестиции', 'рейтинг', 'добыча газа', 'поставки газа', 'поставки газа', 'поставки газа', 'инвестиции', 'поставки газа', 'биржа', 'добыча газа', 'поставки газа', 'поставки газа', 'поставки газа', 'поставки газа', 'санкции', 'поставки газа', 'поставки газа', 'поставки газа', 'добыча газа', 'биржа', 'поставки газа', 'добыча газа', 'поставки газа', 'биржа', 'поставки газа', 'биржа', 'биржа', 'биржа', 'поставки газа', 'поставки газа', 'поставки газа', 'биржа', 'события']\n",
            "\n",
            "Номер кластера:  3\n",
            "['санкции', 'совет директоров', 'совет директоров', 'совет директоров', 'события']\n",
            "\n",
            "Номер кластера:  4\n",
            "['санкции', 'санкции', 'санкции', 'санкции', 'санкции', 'санкции', 'санкции', 'санкции', 'санкции', 'поставки газа', 'поставки газа']\n",
            "\n"
          ]
        }
      ]
    },
    {
      "cell_type": "markdown",
      "source": [
        "Можем заметить, что очень хорошо получилось определить большинство кластеров: \n",
        "- 0: рейтинг\n",
        "- 1: поставки газа\n",
        "- 3: различные события, совет директоров на самом деле тоже можно было отнести к той же категории\n",
        "- 4: санкции\n",
        "\n",
        "В целом даже мне было сложно отделять новости о санкциях от новостей о проблемах с поставками газа, поэтому путаница тут очень объяснимая. \n",
        "\n",
        "В кластер под номером 2 были отнесены все новости из категории \"биржа\", но при этом намешалось еще много других новостей"
      ],
      "metadata": {
        "id": "r_IHEuLNhmub"
      }
    },
    {
      "cell_type": "markdown",
      "source": [
        "Интересно также посмотреть на новости, которые были неправильно распределены. "
      ],
      "metadata": {
        "id": "Wrx6OIALjRQR"
      }
    },
    {
      "cell_type": "code",
      "source": [
        "print('Заголовки новостей, которые по ошибке попали в раздел \"поставки газа\": ')\n",
        "print(df.loc[(df['y'] == 1) & (df['Категория'] != 'поставки газа')]['Заголовок'].to_list())\n",
        "print()\n",
        "print('Заголовки новостей, которые по ошибке попали в раздел \"санкции\": ')\n",
        "print(df.loc[(df['y'] == 4) & (df['Категория'] != 'санкции')]['Заголовок'].to_list())\n",
        "print()\n",
        "print('Заголовки новостей, которые попали в смешнный второй кластер: ')\n",
        "print(df.loc[(df['y'] == 2)]['Заголовок'].to_list())\n",
        "print()"
      ],
      "metadata": {
        "colab": {
          "base_uri": "https://localhost:8080/"
        },
        "id": "R8zvP77qfXzD",
        "outputId": "ba9a7203-a26f-4abd-bfb9-3ca24735badc"
      },
      "execution_count": 27,
      "outputs": [
        {
          "output_type": "stream",
          "name": "stdout",
          "text": [
            "Заголовки новостей, которые по ошибке попали в раздел \"поставки газа\": \n",
            "['В Петербурге открыли «большой подарок от «Газпрома»', 'Газ запутался в платежах', 'Союзные газударства', '«\"Газпром\" практически ничего не теряет»', 'В ЕС сочли нарушением контракта отключение Польши и Болгарии от газа', '«Газпром» прекратит поставки Shell в Германии', 'Австрийская OMV оплатила российский газ по новой схеме']\n",
            "\n",
            "Заголовки новостей, которые по ошибке попали в раздел \"санкции\": \n",
            "['Правительство временно разрешило поставки СПГ бывшей «дочке» «Газпрома»', 'Запасай, или потеряешь']\n",
            "\n",
            "Заголовки новостей, которые попали в смешнный второй кластер: \n",
            "['«Эксперт 400»: для роста капитализации российских компаний необходимы сильные внутренние инвесторы', '«Эксперт РА» присвоил рейтинг компании «ГАЗПРОМ» на уровне ruAAA', 'Европа «перебрала» с запасами', '«Газпром» восьмой день не бронирует мощности газопровода Ямал—Европа', '«Газпром» снова не забронировал мощности газопровода Ямал—Европа', '«Газпром» перезаключил контракт на поставку газа в Турцию', '«Газпром» идет на полимеры', '«Газпрому» не везет с погодой', '«Газпром» заводит PGNiG в юридические дебри', '«Газпром» собирает газ севера Ямала', 'Газ в чрезвычайном режиме', 'Молдавия заплатила «Газпрому» за газ в январе', 'Газ на рейде', 'Калининград в кольце газов', '«Газпром» выдавливает дивиденды из Польши', 'В газовой сделке запахло Сахалином', '«Газпром» подписал второй контракт на поставку газа в Китай', '«Газпром» не стал бронировать мощности Ямал—Европа до октября', 'Атомные метанморфозы', 'Газ отклонился от генераторной линии', '«Газпром» вновь не забронировал мощности газопровода Ямал—Европа', '«Газпром» планирует в 2022 году снизить добычу газа на 4%', '«Газпром»: экспорт газа в Китай с начала года вырос почти на 60%', '«Газпром» успел заработать в 2021 году', '«Нафтогаз» допустил новый суд с «Газпромом» по платежам за транзит', '«Газпром» призывают к биржевой дисциплине', 'Спекулянты отыгрались на «Газпроме»', 'В Молдавии предложили повысить тарифы на газ из-за нестабильных цен', 'Добыча и\\xa0поставки газа: итоги пяти месяцев', 'Поставки газа россиянам в холодном мае трижды побили исторический рекорд', 'В Молдавии сообщили о снижении цены на российский газ', '«Газпром» вложился в бурение', '«Газпром» поздравил Санкт-Петербург с\\xa0350-летием со\\xa0дня рождения Петра I']\n",
            "\n"
          ]
        }
      ]
    },
    {
      "cell_type": "markdown",
      "source": [
        "Выводы:\n",
        "- алгоритм работает близко к истинной разметке и правильно разделил большую часть новостей по кластерам \n",
        "- неправильно разделились новости, находившиеся на стыке категорий, особенно это заметно в путанице между категориями \"санкции\" и \"поставки газа\"\n",
        "- второй кластер по сути можно объединить как \"финансы\". Если вчитаться в соответствующие новости, то можно заметить, что они относятся к бирже, инвестициям, оплате газа: всему, что можно отнести к финансовой части."
      ],
      "metadata": {
        "id": "uQmTddTSlFKS"
      }
    },
    {
      "cell_type": "code",
      "source": [
        "res = pd.DataFrame()\n",
        "res['Article'] = df['Заголовок']\n",
        "res['Cluster'] = df['y']\n",
        "res.loc[(res['Cluster'] == 0), 'Cluster'] = 'рейтинг'\n",
        "res.loc[(res['Cluster'] == 1), 'Cluster'] = 'поставки газа'\n",
        "res.loc[(res['Cluster'] == 2), 'Cluster'] = 'финансы'\n",
        "res.loc[(res['Cluster'] == 3), 'Cluster'] = 'события'\n",
        "res.loc[(res['Cluster'] == 4), 'Cluster'] = 'санкции'\n",
        "\n",
        "res['True category'] = df['Категория']\n",
        "res"
      ],
      "metadata": {
        "colab": {
          "base_uri": "https://localhost:8080/",
          "height": 424
        },
        "id": "Y5RQKUaVnAX5",
        "outputId": "e29c5a1d-85eb-4be9-99e5-ab8f5e5e4eea"
      },
      "execution_count": 29,
      "outputs": [
        {
          "output_type": "execute_result",
          "data": {
            "text/plain": [
              "                                              Article        Cluster  \\\n",
              "0   «Эксперт 400»: для роста капитализации российс...        финансы   \n",
              "1   «Эксперт РА» присвоил рейтинг компании «Газпро...        рейтинг   \n",
              "2   «Эксперт РА» присвоил рейтинг компании «ГАЗПРО...        финансы   \n",
              "3                       Европа «перебрала» с запасами        финансы   \n",
              "4   «Газпром» восьмой день не бронирует мощности г...        финансы   \n",
              "..                                                ...            ...   \n",
              "84  «Газпром» подтвердил остановку поставок датско...  поставки газа   \n",
              "85  В Молдавии сообщили о снижении цены на российс...        финансы   \n",
              "86                       «Газпром» вложился в бурение        финансы   \n",
              "87  «Газпром» поздравил Санкт-Петербург с 350-лети...        финансы   \n",
              "88  Под руководством Виктора Зубкова прошел Форум ...        события   \n",
              "\n",
              "    True category  \n",
              "0      инвестиции  \n",
              "1         рейтинг  \n",
              "2         рейтинг  \n",
              "3     добыча газа  \n",
              "4   поставки газа  \n",
              "..            ...  \n",
              "84  поставки газа  \n",
              "85  поставки газа  \n",
              "86          биржа  \n",
              "87        события  \n",
              "88        события  \n",
              "\n",
              "[89 rows x 3 columns]"
            ],
            "text/html": [
              "\n",
              "  <div id=\"df-342cdcbf-6dd2-466e-a35a-dff8b9c6b77a\">\n",
              "    <div class=\"colab-df-container\">\n",
              "      <div>\n",
              "<style scoped>\n",
              "    .dataframe tbody tr th:only-of-type {\n",
              "        vertical-align: middle;\n",
              "    }\n",
              "\n",
              "    .dataframe tbody tr th {\n",
              "        vertical-align: top;\n",
              "    }\n",
              "\n",
              "    .dataframe thead th {\n",
              "        text-align: right;\n",
              "    }\n",
              "</style>\n",
              "<table border=\"1\" class=\"dataframe\">\n",
              "  <thead>\n",
              "    <tr style=\"text-align: right;\">\n",
              "      <th></th>\n",
              "      <th>Article</th>\n",
              "      <th>Cluster</th>\n",
              "      <th>True category</th>\n",
              "    </tr>\n",
              "  </thead>\n",
              "  <tbody>\n",
              "    <tr>\n",
              "      <th>0</th>\n",
              "      <td>«Эксперт 400»: для роста капитализации российс...</td>\n",
              "      <td>финансы</td>\n",
              "      <td>инвестиции</td>\n",
              "    </tr>\n",
              "    <tr>\n",
              "      <th>1</th>\n",
              "      <td>«Эксперт РА» присвоил рейтинг компании «Газпро...</td>\n",
              "      <td>рейтинг</td>\n",
              "      <td>рейтинг</td>\n",
              "    </tr>\n",
              "    <tr>\n",
              "      <th>2</th>\n",
              "      <td>«Эксперт РА» присвоил рейтинг компании «ГАЗПРО...</td>\n",
              "      <td>финансы</td>\n",
              "      <td>рейтинг</td>\n",
              "    </tr>\n",
              "    <tr>\n",
              "      <th>3</th>\n",
              "      <td>Европа «перебрала» с запасами</td>\n",
              "      <td>финансы</td>\n",
              "      <td>добыча газа</td>\n",
              "    </tr>\n",
              "    <tr>\n",
              "      <th>4</th>\n",
              "      <td>«Газпром» восьмой день не бронирует мощности г...</td>\n",
              "      <td>финансы</td>\n",
              "      <td>поставки газа</td>\n",
              "    </tr>\n",
              "    <tr>\n",
              "      <th>...</th>\n",
              "      <td>...</td>\n",
              "      <td>...</td>\n",
              "      <td>...</td>\n",
              "    </tr>\n",
              "    <tr>\n",
              "      <th>84</th>\n",
              "      <td>«Газпром» подтвердил остановку поставок датско...</td>\n",
              "      <td>поставки газа</td>\n",
              "      <td>поставки газа</td>\n",
              "    </tr>\n",
              "    <tr>\n",
              "      <th>85</th>\n",
              "      <td>В Молдавии сообщили о снижении цены на российс...</td>\n",
              "      <td>финансы</td>\n",
              "      <td>поставки газа</td>\n",
              "    </tr>\n",
              "    <tr>\n",
              "      <th>86</th>\n",
              "      <td>«Газпром» вложился в бурение</td>\n",
              "      <td>финансы</td>\n",
              "      <td>биржа</td>\n",
              "    </tr>\n",
              "    <tr>\n",
              "      <th>87</th>\n",
              "      <td>«Газпром» поздравил Санкт-Петербург с 350-лети...</td>\n",
              "      <td>финансы</td>\n",
              "      <td>события</td>\n",
              "    </tr>\n",
              "    <tr>\n",
              "      <th>88</th>\n",
              "      <td>Под руководством Виктора Зубкова прошел Форум ...</td>\n",
              "      <td>события</td>\n",
              "      <td>события</td>\n",
              "    </tr>\n",
              "  </tbody>\n",
              "</table>\n",
              "<p>89 rows × 3 columns</p>\n",
              "</div>\n",
              "      <button class=\"colab-df-convert\" onclick=\"convertToInteractive('df-342cdcbf-6dd2-466e-a35a-dff8b9c6b77a')\"\n",
              "              title=\"Convert this dataframe to an interactive table.\"\n",
              "              style=\"display:none;\">\n",
              "        \n",
              "  <svg xmlns=\"http://www.w3.org/2000/svg\" height=\"24px\"viewBox=\"0 0 24 24\"\n",
              "       width=\"24px\">\n",
              "    <path d=\"M0 0h24v24H0V0z\" fill=\"none\"/>\n",
              "    <path d=\"M18.56 5.44l.94 2.06.94-2.06 2.06-.94-2.06-.94-.94-2.06-.94 2.06-2.06.94zm-11 1L8.5 8.5l.94-2.06 2.06-.94-2.06-.94L8.5 2.5l-.94 2.06-2.06.94zm10 10l.94 2.06.94-2.06 2.06-.94-2.06-.94-.94-2.06-.94 2.06-2.06.94z\"/><path d=\"M17.41 7.96l-1.37-1.37c-.4-.4-.92-.59-1.43-.59-.52 0-1.04.2-1.43.59L10.3 9.45l-7.72 7.72c-.78.78-.78 2.05 0 2.83L4 21.41c.39.39.9.59 1.41.59.51 0 1.02-.2 1.41-.59l7.78-7.78 2.81-2.81c.8-.78.8-2.07 0-2.86zM5.41 20L4 18.59l7.72-7.72 1.47 1.35L5.41 20z\"/>\n",
              "  </svg>\n",
              "      </button>\n",
              "      \n",
              "  <style>\n",
              "    .colab-df-container {\n",
              "      display:flex;\n",
              "      flex-wrap:wrap;\n",
              "      gap: 12px;\n",
              "    }\n",
              "\n",
              "    .colab-df-convert {\n",
              "      background-color: #E8F0FE;\n",
              "      border: none;\n",
              "      border-radius: 50%;\n",
              "      cursor: pointer;\n",
              "      display: none;\n",
              "      fill: #1967D2;\n",
              "      height: 32px;\n",
              "      padding: 0 0 0 0;\n",
              "      width: 32px;\n",
              "    }\n",
              "\n",
              "    .colab-df-convert:hover {\n",
              "      background-color: #E2EBFA;\n",
              "      box-shadow: 0px 1px 2px rgba(60, 64, 67, 0.3), 0px 1px 3px 1px rgba(60, 64, 67, 0.15);\n",
              "      fill: #174EA6;\n",
              "    }\n",
              "\n",
              "    [theme=dark] .colab-df-convert {\n",
              "      background-color: #3B4455;\n",
              "      fill: #D2E3FC;\n",
              "    }\n",
              "\n",
              "    [theme=dark] .colab-df-convert:hover {\n",
              "      background-color: #434B5C;\n",
              "      box-shadow: 0px 1px 3px 1px rgba(0, 0, 0, 0.15);\n",
              "      filter: drop-shadow(0px 1px 2px rgba(0, 0, 0, 0.3));\n",
              "      fill: #FFFFFF;\n",
              "    }\n",
              "  </style>\n",
              "\n",
              "      <script>\n",
              "        const buttonEl =\n",
              "          document.querySelector('#df-342cdcbf-6dd2-466e-a35a-dff8b9c6b77a button.colab-df-convert');\n",
              "        buttonEl.style.display =\n",
              "          google.colab.kernel.accessAllowed ? 'block' : 'none';\n",
              "\n",
              "        async function convertToInteractive(key) {\n",
              "          const element = document.querySelector('#df-342cdcbf-6dd2-466e-a35a-dff8b9c6b77a');\n",
              "          const dataTable =\n",
              "            await google.colab.kernel.invokeFunction('convertToInteractive',\n",
              "                                                     [key], {});\n",
              "          if (!dataTable) return;\n",
              "\n",
              "          const docLinkHtml = 'Like what you see? Visit the ' +\n",
              "            '<a target=\"_blank\" href=https://colab.research.google.com/notebooks/data_table.ipynb>data table notebook</a>'\n",
              "            + ' to learn more about interactive tables.';\n",
              "          element.innerHTML = '';\n",
              "          dataTable['output_type'] = 'display_data';\n",
              "          await google.colab.output.renderOutput(dataTable, element);\n",
              "          const docLink = document.createElement('div');\n",
              "          docLink.innerHTML = docLinkHtml;\n",
              "          element.appendChild(docLink);\n",
              "        }\n",
              "      </script>\n",
              "    </div>\n",
              "  </div>\n",
              "  "
            ]
          },
          "metadata": {},
          "execution_count": 29
        }
      ]
    },
    {
      "cell_type": "code",
      "source": [
        "res.to_csv('events_clusters', encoding='utf-8', index=False)\n"
      ],
      "metadata": {
        "id": "TXeHJZu1mmA2"
      },
      "execution_count": 30,
      "outputs": []
    },
    {
      "cell_type": "code",
      "source": [
        ""
      ],
      "metadata": {
        "id": "m6Tr0Tl3oPSK"
      },
      "execution_count": null,
      "outputs": []
    }
  ]
}